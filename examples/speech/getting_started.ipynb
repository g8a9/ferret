{
 "cells": [
  {
   "cell_type": "markdown",
   "metadata": {},
   "source": [
    "# Speech XAI"
   ]
  },
  {
   "cell_type": "code",
   "execution_count": 1,
   "metadata": {},
   "outputs": [],
   "source": [
    "%load_ext autoreload\n",
    "%autoreload 2"
   ]
  },
  {
   "cell_type": "code",
   "execution_count": 2,
   "metadata": {},
   "outputs": [
    {
     "name": "stderr",
     "output_type": "stream",
     "text": [
      "/home/moscato/miniconda3/envs/ferret-testing-2/lib/python3.10/site-packages/tqdm/auto.py:21: TqdmWarning: IProgress not found. Please update jupyter and ipywidgets. See https://ipywidgets.readthedocs.io/en/stable/user_install.html\n",
      "  from .autonotebook import tqdm as notebook_tqdm\n",
      "torchvision is not available - cannot save figures\n"
     ]
    }
   ],
   "source": [
    "from datasets import Dataset\n",
    "from IPython.display import display\n",
    "import numpy as np \n",
    "import os\n",
    "import pandas as pd\n",
    "from pathlib import Path\n",
    "from pydub import AudioSegment\n",
    "import torch\n",
    "from transformers import Wav2Vec2ForSequenceClassification, Wav2Vec2FeatureExtractor\n",
    "\n",
    "\n",
    "import warnings\n",
    "warnings.filterwarnings('ignore')\n",
    "\n",
    "## Set seed\n",
    "SEED = 42\n",
    "torch.manual_seed(SEED)\n",
    "torch.cuda.manual_seed(SEED)\n",
    "np.random.seed(SEED)\n",
    "\n",
    "\n",
    "from ferret import SpeechBenchmark, AOPC_Comprehensiveness_Evaluation_Speech, AOPC_Sufficiency_Evaluation_Speech"
   ]
  },
  {
   "cell_type": "markdown",
   "metadata": {},
   "source": [
    "## Data"
   ]
  },
  {
   "cell_type": "code",
   "execution_count": 3,
   "metadata": {},
   "outputs": [],
   "source": [
    "dataset_name = 'FSC'\n",
    "data_dir = f'{str(Path.home())}/data/speech/fluent_speech_commands_dataset'\n",
    "\n",
    "# We read the test data of FSC dataset\n",
    "df = pd.read_csv(f\"{data_dir}/data/test_data.csv\")\n",
    "df[\"path\"] = df[\"path\"].apply(lambda x: os.path.join(data_dir, x))\n",
    "\n",
    "dataset = Dataset.from_pandas(df)"
   ]
  },
  {
   "cell_type": "markdown",
   "metadata": {},
   "source": [
    "## Models"
   ]
  },
  {
   "cell_type": "code",
   "execution_count": 4,
   "metadata": {},
   "outputs": [
    {
     "name": "stdout",
     "output_type": "stream",
     "text": [
      "cuda:0\n"
     ]
    }
   ],
   "source": [
    "# Note: set the ordinal of the device according to your system.\n",
    "device_str = 'cuda:0' if torch.cuda.is_available() else 'cpu'\n",
    "device = torch.device(device_str)\n",
    "\n",
    "print(device)"
   ]
  },
  {
   "cell_type": "code",
   "execution_count": 5,
   "metadata": {},
   "outputs": [
    {
     "name": "stderr",
     "output_type": "stream",
     "text": [
      "Some weights of the model checkpoint at superb/wav2vec2-base-superb-ic were not used when initializing Wav2Vec2ForSequenceClassification: ['wav2vec2.encoder.pos_conv_embed.conv.weight_g', 'wav2vec2.encoder.pos_conv_embed.conv.weight_v']\n",
      "- This IS expected if you are initializing Wav2Vec2ForSequenceClassification from the checkpoint of a model trained on another task or with another architecture (e.g. initializing a BertForSequenceClassification model from a BertForPreTraining model).\n",
      "- This IS NOT expected if you are initializing Wav2Vec2ForSequenceClassification from the checkpoint of a model that you expect to be exactly identical (initializing a BertForSequenceClassification model from a BertForSequenceClassification model).\n",
      "Some weights of Wav2Vec2ForSequenceClassification were not initialized from the model checkpoint at superb/wav2vec2-base-superb-ic and are newly initialized: ['wav2vec2.encoder.pos_conv_embed.conv.parametrizations.weight.original0', 'wav2vec2.encoder.pos_conv_embed.conv.parametrizations.weight.original1']\n",
      "You should probably TRAIN this model on a down-stream task to be able to use it for predictions and inference.\n"
     ]
    }
   ],
   "source": [
    "## Load model\n",
    "model = Wav2Vec2ForSequenceClassification.from_pretrained(\n",
    "    \"superb/wav2vec2-base-superb-ic\"\n",
    ")\n",
    "feature_extractor = Wav2Vec2FeatureExtractor.from_pretrained(\n",
    "    \"superb/wav2vec2-base-superb-ic\"\n",
    ")\n",
    "\n",
    "if torch.cuda.is_available():\n",
    "    model = model.to(device)"
   ]
  },
  {
   "cell_type": "markdown",
   "metadata": {},
   "source": [
    "## Speech-XAI: the `SpeechBenchmark` class"
   ]
  },
  {
   "cell_type": "code",
   "execution_count": 6,
   "metadata": {},
   "outputs": [],
   "source": [
    "## Instantiate benchmark class\n",
    "benchmark = SpeechBenchmark(model, feature_extractor, device=device_str)"
   ]
  },
  {
   "cell_type": "code",
   "execution_count": 7,
   "metadata": {},
   "outputs": [
    {
     "data": {
      "text/html": [
       "\n",
       "                    <audio controls>\n",
       "                        <source src=\"data:audio/mpeg;base64,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\" type=\"audio/mpeg\"/>\n",
       "                        Your browser does not support the audio element.\n",
       "                    </audio>\n",
       "                  "
      ],
      "text/plain": [
       "<pydub.audio_segment.AudioSegment at 0x7f19c8c3f790>"
      ]
     },
     "metadata": {},
     "output_type": "display_data"
    }
   ],
   "source": [
    "## Example\n",
    "# 'transcription': 'Turn up the bedroom heat.'\n",
    "# 'action': 'increase'\n",
    "# 'object': 'heat'\n",
    "# 'location': 'bedroom'\n",
    "\n",
    "idx = 136\n",
    "audio_path = dataset[idx]['path']\n",
    "\n",
    "audio = AudioSegment.from_wav(audio_path)\n",
    "display(audio)"
   ]
  },
  {
   "cell_type": "markdown",
   "metadata": {},
   "source": [
    "## Explain word importance"
   ]
  },
  {
   "cell_type": "markdown",
   "metadata": {},
   "source": [
    "### Word importance"
   ]
  },
  {
   "cell_type": "code",
   "execution_count": 8,
   "metadata": {},
   "outputs": [
    {
     "name": "stdout",
     "output_type": "stream",
     "text": [
      "Transcribing audio to get word level timestamps...\n"
     ]
    },
    {
     "name": "stderr",
     "output_type": "stream",
     "text": [
      "Lightning automatically upgraded your loaded checkpoint from v1.5.4 to v2.2.1. To apply the upgrade to your files permanently, run `python -m pytorch_lightning.utilities.upgrade_checkpoint ../../../../.cache/torch/whisperx-vad-segmentation.bin`\n"
     ]
    },
    {
     "name": "stdout",
     "output_type": "stream",
     "text": [
      "Model was trained with pyannote.audio 0.0.1, yours is 3.1.1. Bad things might happen unless you revert pyannote.audio to 0.x.\n",
      "Model was trained with torch 1.10.0+cu102, yours is 2.2.1+cu121. Bad things might happen unless you revert torch to 1.x.\n",
      "Transcribed audio with whisperX into:  Turn up the bedroom heat.\n"
     ]
    },
    {
     "data": {
      "text/html": [
       "<style type=\"text/css\">\n",
       "#T_d84fd_row0_col0 {\n",
       "  background-color: #ecc3c6;\n",
       "  color: #000000;\n",
       "}\n",
       "#T_d84fd_row0_col1 {\n",
       "  background-color: #e58d94;\n",
       "  color: #f1f1f1;\n",
       "}\n",
       "#T_d84fd_row0_col2 {\n",
       "  background-color: #ecc5c7;\n",
       "  color: #000000;\n",
       "}\n",
       "#T_d84fd_row0_col3 {\n",
       "  background-color: #efdadb;\n",
       "  color: #000000;\n",
       "}\n",
       "#T_d84fd_row0_col4 {\n",
       "  background-color: #f2eeee;\n",
       "  color: #000000;\n",
       "}\n",
       "#T_d84fd_row1_col0, #T_d84fd_row1_col1, #T_d84fd_row1_col2 {\n",
       "  background-color: #f1f1f2;\n",
       "  color: #000000;\n",
       "}\n",
       "#T_d84fd_row1_col3 {\n",
       "  background-color: #f2efef;\n",
       "  color: #000000;\n",
       "}\n",
       "#T_d84fd_row1_col4 {\n",
       "  background-color: #e8a6ab;\n",
       "  color: #000000;\n",
       "}\n",
       "#T_d84fd_row2_col0, #T_d84fd_row2_col1 {\n",
       "  background-color: #f2f1f1;\n",
       "  color: #000000;\n",
       "}\n",
       "#T_d84fd_row2_col2 {\n",
       "  background-color: #f0e3e3;\n",
       "  color: #000000;\n",
       "}\n",
       "#T_d84fd_row2_col3 {\n",
       "  background-color: #da3b46;\n",
       "  color: #f1f1f1;\n",
       "}\n",
       "#T_d84fd_row2_col4 {\n",
       "  background-color: #edc6c9;\n",
       "  color: #000000;\n",
       "}\n",
       "</style>\n",
       "<table id=\"T_d84fd\">\n",
       "  <thead>\n",
       "    <tr>\n",
       "      <th class=\"blank level0\" >&nbsp;</th>\n",
       "      <th id=\"T_d84fd_level0_col0\" class=\"col_heading level0 col0\" >Turn</th>\n",
       "      <th id=\"T_d84fd_level0_col1\" class=\"col_heading level0 col1\" >up</th>\n",
       "      <th id=\"T_d84fd_level0_col2\" class=\"col_heading level0 col2\" >the</th>\n",
       "      <th id=\"T_d84fd_level0_col3\" class=\"col_heading level0 col3\" >bedroom</th>\n",
       "      <th id=\"T_d84fd_level0_col4\" class=\"col_heading level0 col4\" >heat.</th>\n",
       "    </tr>\n",
       "  </thead>\n",
       "  <tbody>\n",
       "    <tr>\n",
       "      <th id=\"T_d84fd_level0_row0\" class=\"row_heading level0 row0\" >action=increase</th>\n",
       "      <td id=\"T_d84fd_row0_col0\" class=\"data row0 col0\" >0.251</td>\n",
       "      <td id=\"T_d84fd_row0_col1\" class=\"data row0 col1\" >0.545</td>\n",
       "      <td id=\"T_d84fd_row0_col2\" class=\"data row0 col2\" >0.243</td>\n",
       "      <td id=\"T_d84fd_row0_col3\" class=\"data row0 col3\" >0.130</td>\n",
       "      <td id=\"T_d84fd_row0_col4\" class=\"data row0 col4\" >0.021</td>\n",
       "    </tr>\n",
       "    <tr>\n",
       "      <th id=\"T_d84fd_level0_row1\" class=\"row_heading level0 row1\" >object=heat</th>\n",
       "      <td id=\"T_d84fd_row1_col0\" class=\"data row1 col0\" >-0.000</td>\n",
       "      <td id=\"T_d84fd_row1_col1\" class=\"data row1 col1\" >-0.000</td>\n",
       "      <td id=\"T_d84fd_row1_col2\" class=\"data row1 col2\" >-0.000</td>\n",
       "      <td id=\"T_d84fd_row1_col3\" class=\"data row1 col3\" >0.014</td>\n",
       "      <td id=\"T_d84fd_row1_col4\" class=\"data row1 col4\" >0.412</td>\n",
       "    </tr>\n",
       "    <tr>\n",
       "      <th id=\"T_d84fd_level0_row2\" class=\"row_heading level0 row2\" >location=bedroom</th>\n",
       "      <td id=\"T_d84fd_row2_col0\" class=\"data row2 col0\" >0.002</td>\n",
       "      <td id=\"T_d84fd_row2_col1\" class=\"data row2 col1\" >0.006</td>\n",
       "      <td id=\"T_d84fd_row2_col2\" class=\"data row2 col2\" >0.082</td>\n",
       "      <td id=\"T_d84fd_row2_col3\" class=\"data row2 col3\" >0.997</td>\n",
       "      <td id=\"T_d84fd_row2_col4\" class=\"data row2 col4\" >0.242</td>\n",
       "    </tr>\n",
       "  </tbody>\n",
       "</table>\n"
      ],
      "text/plain": [
       "<pandas.io.formats.style.Styler at 0x7f1b1bf4de70>"
      ]
     },
     "metadata": {},
     "output_type": "display_data"
    }
   ],
   "source": [
    "explanation = benchmark.explain(\n",
    "    audio_path_or_array=audio_path, \n",
    "    methodology='LOO'\n",
    ")\n",
    "\n",
    "display(benchmark.show_table(explanation, decimals=3))"
   ]
  },
  {
   "cell_type": "code",
   "execution_count": 9,
   "metadata": {},
   "outputs": [
    {
     "name": "stdout",
     "output_type": "stream",
     "text": [
      "Transcribing audio to get word level timestamps...\n"
     ]
    },
    {
     "name": "stderr",
     "output_type": "stream",
     "text": [
      "Lightning automatically upgraded your loaded checkpoint from v1.5.4 to v2.2.1. To apply the upgrade to your files permanently, run `python -m pytorch_lightning.utilities.upgrade_checkpoint ../../../../.cache/torch/whisperx-vad-segmentation.bin`\n"
     ]
    },
    {
     "name": "stdout",
     "output_type": "stream",
     "text": [
      "Model was trained with pyannote.audio 0.0.1, yours is 3.1.1. Bad things might happen unless you revert pyannote.audio to 0.x.\n",
      "Model was trained with torch 1.10.0+cu102, yours is 2.2.1+cu121. Bad things might happen unless you revert torch to 1.x.\n",
      "Transcribed audio with whisperX into:  Turn up the bedroom heat.\n"
     ]
    },
    {
     "data": {
      "text/html": [
       "<style type=\"text/css\">\n",
       "#T_17c7b_row0_col0, #T_17c7b_row0_col4 {\n",
       "  background-color: #efd6d7;\n",
       "  color: #000000;\n",
       "}\n",
       "#T_17c7b_row0_col1 {\n",
       "  background-color: #ecc0c3;\n",
       "  color: #000000;\n",
       "}\n",
       "#T_17c7b_row0_col2 {\n",
       "  background-color: #f0ddde;\n",
       "  color: #000000;\n",
       "}\n",
       "#T_17c7b_row0_col3 {\n",
       "  background-color: #ecbfc2;\n",
       "  color: #000000;\n",
       "}\n",
       "#T_17c7b_row1_col0 {\n",
       "  background-color: #f1e7e7;\n",
       "  color: #000000;\n",
       "}\n",
       "#T_17c7b_row1_col1 {\n",
       "  background-color: #f2efef;\n",
       "  color: #000000;\n",
       "}\n",
       "#T_17c7b_row1_col2 {\n",
       "  background-color: #f1e5e6;\n",
       "  color: #000000;\n",
       "}\n",
       "#T_17c7b_row1_col3, #T_17c7b_row2_col1 {\n",
       "  background-color: #f1f1f2;\n",
       "  color: #000000;\n",
       "}\n",
       "#T_17c7b_row1_col4 {\n",
       "  background-color: #edccce;\n",
       "  color: #000000;\n",
       "}\n",
       "#T_17c7b_row2_col0 {\n",
       "  background-color: #e5eaee;\n",
       "  color: #000000;\n",
       "}\n",
       "#T_17c7b_row2_col2 {\n",
       "  background-color: #ecc3c6;\n",
       "  color: #000000;\n",
       "}\n",
       "#T_17c7b_row2_col3 {\n",
       "  background-color: #e16f78;\n",
       "  color: #f1f1f1;\n",
       "}\n",
       "#T_17c7b_row2_col4 {\n",
       "  background-color: #f2ebeb;\n",
       "  color: #000000;\n",
       "}\n",
       "</style>\n",
       "<table id=\"T_17c7b\">\n",
       "  <thead>\n",
       "    <tr>\n",
       "      <th class=\"blank level0\" >&nbsp;</th>\n",
       "      <th id=\"T_17c7b_level0_col0\" class=\"col_heading level0 col0\" >Turn</th>\n",
       "      <th id=\"T_17c7b_level0_col1\" class=\"col_heading level0 col1\" >up</th>\n",
       "      <th id=\"T_17c7b_level0_col2\" class=\"col_heading level0 col2\" >the</th>\n",
       "      <th id=\"T_17c7b_level0_col3\" class=\"col_heading level0 col3\" >bedroom</th>\n",
       "      <th id=\"T_17c7b_level0_col4\" class=\"col_heading level0 col4\" >heat.</th>\n",
       "    </tr>\n",
       "  </thead>\n",
       "  <tbody>\n",
       "    <tr>\n",
       "      <th id=\"T_17c7b_level0_row0\" class=\"row_heading level0 row0\" >action=increase</th>\n",
       "      <td id=\"T_17c7b_row0_col0\" class=\"data row0 col0\" >0.155</td>\n",
       "      <td id=\"T_17c7b_row0_col1\" class=\"data row0 col1\" >0.273</td>\n",
       "      <td id=\"T_17c7b_row0_col2\" class=\"data row0 col2\" >0.117</td>\n",
       "      <td id=\"T_17c7b_row0_col3\" class=\"data row0 col3\" >0.281</td>\n",
       "      <td id=\"T_17c7b_row0_col4\" class=\"data row0 col4\" >0.149</td>\n",
       "    </tr>\n",
       "    <tr>\n",
       "      <th id=\"T_17c7b_level0_row1\" class=\"row_heading level0 row1\" >object=heat</th>\n",
       "      <td id=\"T_17c7b_row1_col0\" class=\"data row1 col0\" >0.055</td>\n",
       "      <td id=\"T_17c7b_row1_col1\" class=\"data row1 col1\" >0.015</td>\n",
       "      <td id=\"T_17c7b_row1_col2\" class=\"data row1 col2\" >0.065</td>\n",
       "      <td id=\"T_17c7b_row1_col3\" class=\"data row1 col3\" >-0.007</td>\n",
       "      <td id=\"T_17c7b_row1_col4\" class=\"data row1 col4\" >0.211</td>\n",
       "    </tr>\n",
       "    <tr>\n",
       "      <th id=\"T_17c7b_level0_row2\" class=\"row_heading level0 row2\" >location=bedroom</th>\n",
       "      <td id=\"T_17c7b_row2_col0\" class=\"data row2 col0\" >-0.065</td>\n",
       "      <td id=\"T_17c7b_row2_col1\" class=\"data row2 col1\" >-0.005</td>\n",
       "      <td id=\"T_17c7b_row2_col2\" class=\"data row2 col2\" >0.253</td>\n",
       "      <td id=\"T_17c7b_row2_col3\" class=\"data row2 col3\" >0.707</td>\n",
       "      <td id=\"T_17c7b_row2_col4\" class=\"data row2 col4\" >0.036</td>\n",
       "    </tr>\n",
       "  </tbody>\n",
       "</table>\n"
      ],
      "text/plain": [
       "<pandas.io.formats.style.Styler at 0x7f19c8c3f580>"
      ]
     },
     "metadata": {},
     "output_type": "display_data"
    }
   ],
   "source": [
    "explanation = benchmark.explain(\n",
    "    audio_path_or_array=audio_path, \n",
    "    methodology='LIME'\n",
    ")\n",
    "\n",
    "display(benchmark.show_table(explanation, decimals=3))"
   ]
  },
  {
   "cell_type": "code",
   "execution_count": 10,
   "metadata": {},
   "outputs": [
    {
     "data": {
      "text/plain": [
       "(EvaluationSpeech(name='aopc_compr_speech', score=[0.8124997764127329, 0.14093613624572754, 0.9970740624897493], target=[3, 4, 2]),\n",
       " EvaluationSpeech(name='aopc_suff', score=[0.624854679661803, 0.01358117163181305, 0.10568535327911377], target=[3, 4, 2]))"
      ]
     },
     "execution_count": 10,
     "metadata": {},
     "output_type": "execute_result"
    }
   ],
   "source": [
    "aopc_compr = AOPC_Comprehensiveness_Evaluation_Speech(benchmark.model_helper)\n",
    "evaluation_output_c = aopc_compr.compute_evaluation(explanation)\n",
    "\n",
    "aopc_suff = AOPC_Sufficiency_Evaluation_Speech(benchmark.model_helper)\n",
    "evaluation_output_s = aopc_suff.compute_evaluation(explanation)\n",
    "\n",
    "evaluation_output_c, evaluation_output_s"
   ]
  },
  {
   "cell_type": "markdown",
   "metadata": {},
   "source": [
    "## Explain paralinguistic impact"
   ]
  },
  {
   "cell_type": "code",
   "execution_count": 11,
   "metadata": {},
   "outputs": [
    {
     "name": "stderr",
     "output_type": "stream",
     "text": [
      "Perturbation type: 100%|████████████████████████████████████████████████████████████████████████████████████████████████████████████████████████████████| 8/8 [00:39<00:00,  4.98s/it]\n"
     ]
    },
    {
     "data": {
      "text/html": [
       "<style type=\"text/css\">\n",
       "#T_7f180_row0_col0 {\n",
       "  background-color: #f0e3e3;\n",
       "  color: #000000;\n",
       "}\n",
       "#T_7f180_row0_col1, #T_7f180_row0_col5 {\n",
       "  background-color: #f2ebeb;\n",
       "  color: #000000;\n",
       "}\n",
       "#T_7f180_row0_col2 {\n",
       "  background-color: #efdadb;\n",
       "  color: #000000;\n",
       "}\n",
       "#T_7f180_row0_col3 {\n",
       "  background-color: #f0ddde;\n",
       "  color: #000000;\n",
       "}\n",
       "#T_7f180_row0_col4 {\n",
       "  background-color: #eed0d2;\n",
       "  color: #000000;\n",
       "}\n",
       "#T_7f180_row0_col6 {\n",
       "  background-color: #e38188;\n",
       "  color: #f1f1f1;\n",
       "}\n",
       "#T_7f180_row0_col7 {\n",
       "  background-color: #e8a1a6;\n",
       "  color: #000000;\n",
       "}\n",
       "#T_7f180_row1_col0, #T_7f180_row2_col3 {\n",
       "  background-color: #f2eeee;\n",
       "  color: #000000;\n",
       "}\n",
       "#T_7f180_row1_col1 {\n",
       "  background-color: #f1f1f2;\n",
       "  color: #000000;\n",
       "}\n",
       "#T_7f180_row1_col2 {\n",
       "  background-color: #f1eaea;\n",
       "  color: #000000;\n",
       "}\n",
       "#T_7f180_row1_col3, #T_7f180_row1_col4, #T_7f180_row1_col5, #T_7f180_row1_col6 {\n",
       "  background-color: #f2f1f1;\n",
       "  color: #000000;\n",
       "}\n",
       "#T_7f180_row1_col7 {\n",
       "  background-color: #ebbcbf;\n",
       "  color: #000000;\n",
       "}\n",
       "#T_7f180_row2_col0 {\n",
       "  background-color: #edc9cb;\n",
       "  color: #000000;\n",
       "}\n",
       "#T_7f180_row2_col1 {\n",
       "  background-color: #efd9da;\n",
       "  color: #000000;\n",
       "}\n",
       "#T_7f180_row2_col2 {\n",
       "  background-color: #eab5b9;\n",
       "  color: #000000;\n",
       "}\n",
       "#T_7f180_row2_col4 {\n",
       "  background-color: #f2eded;\n",
       "  color: #000000;\n",
       "}\n",
       "#T_7f180_row2_col5 {\n",
       "  background-color: #f2efef;\n",
       "  color: #000000;\n",
       "}\n",
       "#T_7f180_row2_col6 {\n",
       "  background-color: #e9abaf;\n",
       "  color: #000000;\n",
       "}\n",
       "#T_7f180_row2_col7 {\n",
       "  background-color: #e4838b;\n",
       "  color: #f1f1f1;\n",
       "}\n",
       "</style>\n",
       "<table id=\"T_7f180\">\n",
       "  <thead>\n",
       "    <tr>\n",
       "      <th class=\"blank level0\" >&nbsp;</th>\n",
       "      <th id=\"T_7f180_level0_col0\" class=\"col_heading level0 col0\" >pitch shifting</th>\n",
       "      <th id=\"T_7f180_level0_col1\" class=\"col_heading level0 col1\" >pitch shifting down</th>\n",
       "      <th id=\"T_7f180_level0_col2\" class=\"col_heading level0 col2\" >pitch shifting up</th>\n",
       "      <th id=\"T_7f180_level0_col3\" class=\"col_heading level0 col3\" >time stretching</th>\n",
       "      <th id=\"T_7f180_level0_col4\" class=\"col_heading level0 col4\" >time stretching down</th>\n",
       "      <th id=\"T_7f180_level0_col5\" class=\"col_heading level0 col5\" >time stretching up</th>\n",
       "      <th id=\"T_7f180_level0_col6\" class=\"col_heading level0 col6\" >reverberation</th>\n",
       "      <th id=\"T_7f180_level0_col7\" class=\"col_heading level0 col7\" >noise</th>\n",
       "    </tr>\n",
       "  </thead>\n",
       "  <tbody>\n",
       "    <tr>\n",
       "      <th id=\"T_7f180_level0_row0\" class=\"row_heading level0 row0\" >action=increase</th>\n",
       "      <td id=\"T_7f180_row0_col0\" class=\"data row0 col0\" >0.08</td>\n",
       "      <td id=\"T_7f180_row0_col1\" class=\"data row0 col1\" >0.04</td>\n",
       "      <td id=\"T_7f180_row0_col2\" class=\"data row0 col2\" >0.13</td>\n",
       "      <td id=\"T_7f180_row0_col3\" class=\"data row0 col3\" >0.11</td>\n",
       "      <td id=\"T_7f180_row0_col4\" class=\"data row0 col4\" >0.19</td>\n",
       "      <td id=\"T_7f180_row0_col5\" class=\"data row0 col5\" >0.04</td>\n",
       "      <td id=\"T_7f180_row0_col6\" class=\"data row0 col6\" >0.61</td>\n",
       "      <td id=\"T_7f180_row0_col7\" class=\"data row0 col7\" >0.44</td>\n",
       "    </tr>\n",
       "    <tr>\n",
       "      <th id=\"T_7f180_level0_row1\" class=\"row_heading level0 row1\" >object=heat</th>\n",
       "      <td id=\"T_7f180_row1_col0\" class=\"data row1 col0\" >0.02</td>\n",
       "      <td id=\"T_7f180_row1_col1\" class=\"data row1 col1\" >-0.00</td>\n",
       "      <td id=\"T_7f180_row1_col2\" class=\"data row1 col2\" >0.04</td>\n",
       "      <td id=\"T_7f180_row1_col3\" class=\"data row1 col3\" >0.00</td>\n",
       "      <td id=\"T_7f180_row1_col4\" class=\"data row1 col4\" >0.00</td>\n",
       "      <td id=\"T_7f180_row1_col5\" class=\"data row1 col5\" >0.00</td>\n",
       "      <td id=\"T_7f180_row1_col6\" class=\"data row1 col6\" >0.00</td>\n",
       "      <td id=\"T_7f180_row1_col7\" class=\"data row1 col7\" >0.29</td>\n",
       "    </tr>\n",
       "    <tr>\n",
       "      <th id=\"T_7f180_level0_row2\" class=\"row_heading level0 row2\" >location=bedroom</th>\n",
       "      <td id=\"T_7f180_row2_col0\" class=\"data row2 col0\" >0.22</td>\n",
       "      <td id=\"T_7f180_row2_col1\" class=\"data row2 col1\" >0.13</td>\n",
       "      <td id=\"T_7f180_row2_col2\" class=\"data row2 col2\" >0.33</td>\n",
       "      <td id=\"T_7f180_row2_col3\" class=\"data row2 col3\" >0.02</td>\n",
       "      <td id=\"T_7f180_row2_col4\" class=\"data row2 col4\" >0.03</td>\n",
       "      <td id=\"T_7f180_row2_col5\" class=\"data row2 col5\" >0.01</td>\n",
       "      <td id=\"T_7f180_row2_col6\" class=\"data row2 col6\" >0.39</td>\n",
       "      <td id=\"T_7f180_row2_col7\" class=\"data row2 col7\" >0.60</td>\n",
       "    </tr>\n",
       "  </tbody>\n",
       "</table>\n"
      ],
      "text/plain": [
       "<pandas.io.formats.style.Styler at 0x7f19c8c3f4f0>"
      ]
     },
     "metadata": {},
     "output_type": "display_data"
    }
   ],
   "source": [
    "explain_table = benchmark.explain(\n",
    "    audio_path_or_array=audio_path,\n",
    "    methodology='perturb_paraling',\n",
    ")\n",
    "display(benchmark.show_table(explain_table, decimals=2))"
   ]
  },
  {
   "cell_type": "markdown",
   "metadata": {},
   "source": [
    "## Show variation"
   ]
  },
  {
   "cell_type": "code",
   "execution_count": 12,
   "metadata": {},
   "outputs": [],
   "source": [
    "perturbation_types = ['time stretching', 'pitch shifting', 'reverberation', 'noise']\n",
    "variations_table = benchmark.explain_variations(\n",
    "    audio_path_or_array=audio_path,\n",
    "    current_sr=16e3,\n",
    "    perturbation_types=perturbation_types\n",
    ")"
   ]
  },
  {
   "cell_type": "code",
   "execution_count": 13,
   "metadata": {},
   "outputs": [
    {
     "data": {
      "image/png": "[encoded data removed]",
      "text/plain": [
       "<Figure size 460x420 with 4 Axes>"
      ]
     },
     "metadata": {},
     "output_type": "display_data"
    }
   ],
   "source": [
    "variations_table_plot = {k:variations_table[k] for k in variations_table if k in ['time stretching', 'pitch shifting', 'noise']}\n",
    "fig = benchmark.plot_variations(variations_table_plot, show_diff = True, figsize=(4.6, 4.2));\n",
    "# fig.savefig(f'example_{dataset_name}_context.pdf', bbox_inches='tight')"
   ]
  }
 ],
 "metadata": {
  "accelerator": "GPU",
  "colab": {
   "name": "SUPERB - IC Task (FSC).ipynb",
   "provenance": []
  },
  "kernelspec": {
   "display_name": "Python 3 (ipykernel)",
   "language": "python",
   "name": "python3"
  },
  "language_info": {
   "codemirror_mode": {
    "name": "ipython",
    "version": 3
   },
   "file_extension": ".py",
   "mimetype": "text/x-python",
   "name": "python",
   "nbconvert_exporter": "python",
   "pygments_lexer": "ipython3",
   "version": "3.10.14"
  }
 },
 "nbformat": 4,
 "nbformat_minor": 4
}
