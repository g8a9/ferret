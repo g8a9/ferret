{
 "cells": [
  {
   "cell_type": "markdown",
   "metadata": {},
   "source": [
    "# Speech XAI"
   ]
  },
  {
   "cell_type": "code",
   "execution_count": 1,
   "metadata": {},
   "outputs": [],
   "source": [
    "%load_ext autoreload\n",
    "%autoreload 2"
   ]
  },
  {
   "cell_type": "code",
   "execution_count": 2,
   "metadata": {},
   "outputs": [
    {
     "name": "stderr",
     "output_type": "stream",
     "text": [
      "/home/moscato/miniconda3/envs/ferret-testing-2/lib/python3.10/site-packages/tqdm/auto.py:21: TqdmWarning: IProgress not found. Please update jupyter and ipywidgets. See https://ipywidgets.readthedocs.io/en/stable/user_install.html\n",
      "  from .autonotebook import tqdm as notebook_tqdm\n",
      "/home/moscato/miniconda3/envs/ferret-testing-2/lib/python3.10/site-packages/pyannote/audio/core/io.py:43: UserWarning: torchaudio._backend.set_audio_backend has been deprecated. With dispatcher enabled, this function is no-op. You can remove the function call.\n",
      "  torchaudio.set_audio_backend(\"soundfile\")\n",
      "torchvision is not available - cannot save figures\n"
     ]
    }
   ],
   "source": [
    "from datasets import Dataset, load_dataset\n",
    "from IPython.display import display\n",
    "import numpy as np \n",
    "import os\n",
    "import pandas as pd\n",
    "from pathlib import Path\n",
    "from pydub import AudioSegment\n",
    "import torch\n",
    "from transformers import Wav2Vec2ForSequenceClassification, Wav2Vec2FeatureExtractor\n",
    "\n",
    "from ferret import SpeechBenchmark, AOPC_Comprehensiveness_Evaluation_Speech, AOPC_Sufficiency_Evaluation_Speech"
   ]
  },
  {
   "cell_type": "code",
   "execution_count": 3,
   "metadata": {},
   "outputs": [],
   "source": [
    "DATASET_ID = \"DynamicSuperb/IntentClassification_FluentSpeechCommands-Action\""
   ]
  },
  {
   "cell_type": "code",
   "execution_count": 4,
   "metadata": {},
   "outputs": [
    {
     "name": "stdout",
     "output_type": "stream",
     "text": [
      "cuda:0\n"
     ]
    }
   ],
   "source": [
    "# Note: set the ordinal of the device according to your system.\n",
    "device = 'cuda:0' if torch.cuda.is_available() else 'cpu'\n",
    "print(device)"
   ]
  },
  {
   "cell_type": "markdown",
   "metadata": {},
   "source": [
    "## Data"
   ]
  },
  {
   "cell_type": "code",
   "execution_count": 5,
   "metadata": {},
   "outputs": [
    {
     "data": {
      "text/plain": [
       "Dataset({\n",
       "    features: ['file', 'speakerId', 'transcription', 'audio', 'label', 'instruction'],\n",
       "    num_rows: 200\n",
       "})"
      ]
     },
     "execution_count": 5,
     "metadata": {},
     "output_type": "execute_result"
    }
   ],
   "source": [
    "data = load_dataset(DATASET_ID, split=\"test\")\n",
    "data"
   ]
  },
  {
   "cell_type": "code",
   "execution_count": 6,
   "metadata": {},
   "outputs": [
    {
     "data": {
      "text/plain": [
       "{'file': 'wavs/speakers/Xygv5loxdZtrywr9/77506ae0-452b-11e9-a843-8db76f4b5e29.wav',\n",
       " 'speakerId': 'Xygv5loxdZtrywr9',\n",
       " 'transcription': 'Increase the temperature in the washroom',\n",
       " 'audio': {'path': '77506ae0-452b-11e9-a843-8db76f4b5e29.wav',\n",
       "  'array': array([0.        , 0.        , 0.        , ..., 0.02133179, 0.01977539,\n",
       "         0.01849365]),\n",
       "  'sampling_rate': 16000},\n",
       " 'label': 'increase',\n",
       " 'instruction': 'Recognize the action behind the verbal expression. The answer could be activate, bring, change language, deactivate, decrease, or increase.'}"
      ]
     },
     "execution_count": 6,
     "metadata": {},
     "output_type": "execute_result"
    }
   ],
   "source": [
    "sample = data[0]\n",
    "sample"
   ]
  },
  {
   "cell_type": "markdown",
   "metadata": {},
   "source": [
    "In this notebook we are using Wav2Vec2 which expects audio arrays to be in 16kHz. Luckly, this is the native sampling rate of our data. "
   ]
  },
  {
   "cell_type": "markdown",
   "metadata": {},
   "source": [
    "## Models"
   ]
  },
  {
   "cell_type": "code",
   "execution_count": 7,
   "metadata": {},
   "outputs": [
    {
     "name": "stderr",
     "output_type": "stream",
     "text": [
      "Some weights of the model checkpoint at superb/wav2vec2-base-superb-ic were not used when initializing Wav2Vec2ForSequenceClassification: ['wav2vec2.encoder.pos_conv_embed.conv.weight_g', 'wav2vec2.encoder.pos_conv_embed.conv.weight_v']\n",
      "- This IS expected if you are initializing Wav2Vec2ForSequenceClassification from the checkpoint of a model trained on another task or with another architecture (e.g. initializing a BertForSequenceClassification model from a BertForPreTraining model).\n",
      "- This IS NOT expected if you are initializing Wav2Vec2ForSequenceClassification from the checkpoint of a model that you expect to be exactly identical (initializing a BertForSequenceClassification model from a BertForSequenceClassification model).\n",
      "Some weights of Wav2Vec2ForSequenceClassification were not initialized from the model checkpoint at superb/wav2vec2-base-superb-ic and are newly initialized: ['wav2vec2.encoder.pos_conv_embed.conv.parametrizations.weight.original0', 'wav2vec2.encoder.pos_conv_embed.conv.parametrizations.weight.original1']\n",
      "You should probably TRAIN this model on a down-stream task to be able to use it for predictions and inference.\n"
     ]
    }
   ],
   "source": [
    "## Load model\n",
    "model = Wav2Vec2ForSequenceClassification.from_pretrained(\n",
    "    \"superb/wav2vec2-base-superb-ic\"\n",
    ")\n",
    "feature_extractor = Wav2Vec2FeatureExtractor.from_pretrained(\n",
    "    \"superb/wav2vec2-base-superb-ic\"\n",
    ")\n",
    "\n",
    "if torch.cuda.is_available():\n",
    "    model = model.to(device)"
   ]
  },
  {
   "cell_type": "markdown",
   "metadata": {},
   "source": [
    "## Speech-XAI: the `SpeechBenchmark` class"
   ]
  },
  {
   "cell_type": "markdown",
   "metadata": {},
   "source": [
    "Note: if not specified otherwise, `SpeechBenchmark` assumes English as the source language."
   ]
  },
  {
   "cell_type": "code",
   "execution_count": 8,
   "metadata": {},
   "outputs": [],
   "source": [
    "## Instantiate benchmark class\n",
    "benchmark = SpeechBenchmark(model, feature_extractor, device=device)"
   ]
  },
  {
   "cell_type": "markdown",
   "metadata": {},
   "source": [
    "Let's start from transcribing the example above using WhisperX."
   ]
  },
  {
   "cell_type": "code",
   "execution_count": 9,
   "metadata": {},
   "outputs": [
    {
     "name": "stderr",
     "output_type": "stream",
     "text": [
      "Lightning automatically upgraded your loaded checkpoint from v1.5.4 to v2.2.1. To apply the upgrade to your files permanently, run `python -m pytorch_lightning.utilities.upgrade_checkpoint ../../../../.cache/torch/whisperx-vad-segmentation.bin`\n"
     ]
    },
    {
     "name": "stdout",
     "output_type": "stream",
     "text": [
      "Model was trained with pyannote.audio 0.0.1, yours is 3.1.1. Bad things might happen unless you revert pyannote.audio to 0.x.\n",
      "Model was trained with torch 1.10.0+cu102, yours is 2.2.1+cu121. Bad things might happen unless you revert torch to 1.x.\n"
     ]
    },
    {
     "data": {
      "text/plain": [
       "(' Increase the temperature in the washroom.',\n",
       " [{'word': 'Increase', 'start': 0.737, 'end': 1.02, 'score': 0.438},\n",
       "  {'word': 'the', 'start': 1.04, 'end': 1.121, 'score': 0.141},\n",
       "  {'word': 'temperature', 'start': 1.141, 'end': 1.526, 'score': 0.444},\n",
       "  {'word': 'in', 'start': 1.546, 'end': 1.627, 'score': 0.848},\n",
       "  {'word': 'the', 'start': 1.647, 'end': 1.728, 'score': 0.953},\n",
       "  {'word': 'washroom.', 'start': 1.768, 'end': 2.132, 'score': 0.588}])"
      ]
     },
     "execution_count": 9,
     "metadata": {},
     "output_type": "execute_result"
    }
   ],
   "source": [
    "text, word_timestamps = benchmark.transcribe(\n",
    "    sample[\"audio\"][\"array\"],\n",
    "    current_sr=sample[\"audio\"][\"sampling_rate\"],\n",
    ")\n",
    "text, word_timestamps"
   ]
  },
  {
   "cell_type": "markdown",
   "metadata": {},
   "source": [
    "## Explain word importance"
   ]
  },
  {
   "cell_type": "markdown",
   "metadata": {},
   "source": [
    "### Word importance"
   ]
  },
  {
   "cell_type": "code",
   "execution_count": 10,
   "metadata": {},
   "outputs": [
    {
     "name": "stdout",
     "output_type": "stream",
     "text": [
      "ExplanationSpeech(features=['Increase', 'the', 'temperature', 'in', 'the', 'washroom.'], scores=array([[ 0.47325889, -0.45515126, -0.10200202, -0.15734476, -0.1214807 ,\n",
      "         0.0109534 ],\n",
      "       [ 0.07733703, -0.02064097,  0.34651214, -0.01588559, -0.01463729,\n",
      "        -0.02365428],\n",
      "       [-0.01432282, -0.01848161, -0.00988954, -0.00070852, -0.01123005,\n",
      "         0.32860351]]), explainer='loo_speech+silence', target=[3, 4, 3], audio=<ferret.speechxai_utils.FerretAudio object at 0x7f7f6a2532e0>, word_timestamps=[{'word': 'Increase', 'start': 0.737, 'end': 1.02, 'score': 0.438}, {'word': 'the', 'start': 1.04, 'end': 1.121, 'score': 0.141}, {'word': 'temperature', 'start': 1.141, 'end': 1.526, 'score': 0.444}, {'word': 'in', 'start': 1.546, 'end': 1.627, 'score': 0.848}, {'word': 'the', 'start': 1.647, 'end': 1.728, 'score': 0.953}, {'word': 'washroom.', 'start': 1.768, 'end': 2.132, 'score': 0.588}])\n"
     ]
    }
   ],
   "source": [
    "explanation = benchmark.explain(\n",
    "    audio_path_or_array=sample[\"audio\"][\"array\"],\n",
    "    current_sr=sample[\"audio\"][\"sampling_rate\"],\n",
    "    methodology='LOO',\n",
    "    word_timestamps=word_timestamps\n",
    ")\n",
    "# display(benchmark.show_table(explanation, decimals=3))\n",
    "print(explanation)"
   ]
  },
  {
   "cell_type": "code",
   "execution_count": 11,
   "metadata": {},
   "outputs": [
    {
     "name": "stdout",
     "output_type": "stream",
     "text": [
      "ExplanationSpeech(features=['Increase', 'the', 'temperature', 'in', 'the', 'washroom.'], scores=array([[ 2.73476344e-01, -2.75996750e-02,  2.68968727e-02,\n",
      "         4.38229965e-02, -9.83699882e-03,  3.43606337e-02],\n",
      "       [-4.55664854e-02,  2.00781865e-04,  3.07805077e-01,\n",
      "        -7.30899444e-03,  8.18159192e-03,  1.45066601e-01],\n",
      "       [ 7.67945654e-02, -1.63121489e-02,  1.69544356e-01,\n",
      "         1.03233346e-02,  6.95427875e-02,  4.02942513e-01]]), explainer='LIME+silence', target=[3, 4, 3], audio=<ferret.speechxai_utils.FerretAudio object at 0x7f7f6a2538b0>, word_timestamps=[{'word': 'Increase', 'start': 0.737, 'end': 1.02, 'score': 0.438}, {'word': 'the', 'start': 1.04, 'end': 1.121, 'score': 0.141}, {'word': 'temperature', 'start': 1.141, 'end': 1.526, 'score': 0.444}, {'word': 'in', 'start': 1.546, 'end': 1.627, 'score': 0.848}, {'word': 'the', 'start': 1.647, 'end': 1.728, 'score': 0.953}, {'word': 'washroom.', 'start': 1.768, 'end': 2.132, 'score': 0.588}])\n"
     ]
    }
   ],
   "source": [
    "explanation = benchmark.explain(\n",
    "    audio_path_or_array=sample[\"audio\"][\"array\"],\n",
    "    current_sr=sample[\"audio\"][\"sampling_rate\"], \n",
    "    methodology='LIME',\n",
    "    word_timestamps=word_timestamps\n",
    ")\n",
    "print(explanation)\n",
    "#display(benchmark.show_table(explanation, decimals=3))"
   ]
  },
  {
   "cell_type": "markdown",
   "metadata": {},
   "source": [
    "We can run the same function but with no word timestamps. The class will generate them automatically."
   ]
  },
  {
   "cell_type": "code",
   "execution_count": 12,
   "metadata": {},
   "outputs": [
    {
     "name": "stdout",
     "output_type": "stream",
     "text": [
      "Transcribing audio to get word level timestamps...\n"
     ]
    },
    {
     "name": "stderr",
     "output_type": "stream",
     "text": [
      "Lightning automatically upgraded your loaded checkpoint from v1.5.4 to v2.2.1. To apply the upgrade to your files permanently, run `python -m pytorch_lightning.utilities.upgrade_checkpoint ../../../../.cache/torch/whisperx-vad-segmentation.bin`\n"
     ]
    },
    {
     "name": "stdout",
     "output_type": "stream",
     "text": [
      "Model was trained with pyannote.audio 0.0.1, yours is 3.1.1. Bad things might happen unless you revert pyannote.audio to 0.x.\n",
      "Model was trained with torch 1.10.0+cu102, yours is 2.2.1+cu121. Bad things might happen unless you revert torch to 1.x.\n",
      "Transcribed audio with whisperX into:  Increase the temperature in the washroom.\n",
      "ExplanationSpeech(features=['Increase', 'the', 'temperature', 'in', 'the', 'washroom.'], scores=array([[ 0.30518981, -0.05905296,  0.02406044,  0.06312683, -0.01027067,\n",
      "         0.00634836],\n",
      "       [-0.00192932,  0.04791306,  0.30365684,  0.01351914, -0.02577573,\n",
      "         0.13388129],\n",
      "       [ 0.0786875 , -0.029679  ,  0.21510288,  0.02970933,  0.03952171,\n",
      "         0.44306297]]), explainer='LIME+silence', target=[3, 4, 3], audio=<ferret.speechxai_utils.FerretAudio object at 0x7f80c7375d20>, word_timestamps=[{'word': 'Increase', 'start': 0.737, 'end': 1.02, 'score': 0.438}, {'word': 'the', 'start': 1.04, 'end': 1.121, 'score': 0.141}, {'word': 'temperature', 'start': 1.141, 'end': 1.526, 'score': 0.444}, {'word': 'in', 'start': 1.546, 'end': 1.627, 'score': 0.848}, {'word': 'the', 'start': 1.647, 'end': 1.728, 'score': 0.953}, {'word': 'washroom.', 'start': 1.768, 'end': 2.132, 'score': 0.588}])\n"
     ]
    }
   ],
   "source": [
    "explanation = benchmark.explain(\n",
    "    audio_path_or_array=sample[\"audio\"][\"array\"],\n",
    "    current_sr=sample[\"audio\"][\"sampling_rate\"], \n",
    "    methodology='LIME',\n",
    ")\n",
    "print(explanation)\n",
    "#display(benchmark.show_table(explanation, decimals=3))"
   ]
  },
  {
   "cell_type": "code",
   "execution_count": 13,
   "metadata": {},
   "outputs": [
    {
     "data": {
      "text/plain": [
       "(EvaluationSpeech(name='aopc_compr_speech', score=[0.3684087162837386, 0.24896559864282608, 0.5148161184042692], target=[3, 4, 3]),\n",
       " EvaluationSpeech(name='aopc_suff', score=[0.014175561256706715, -0.004319146275520325, -0.01769007444381714], target=[3, 4, 3]))"
      ]
     },
     "execution_count": 13,
     "metadata": {},
     "output_type": "execute_result"
    }
   ],
   "source": [
    "aopc_compr = AOPC_Comprehensiveness_Evaluation_Speech(benchmark.model_helper)\n",
    "evaluation_output_c = aopc_compr.compute_evaluation(explanation)\n",
    "\n",
    "aopc_suff = AOPC_Sufficiency_Evaluation_Speech(benchmark.model_helper)\n",
    "evaluation_output_s = aopc_suff.compute_evaluation(explanation)\n",
    "\n",
    "evaluation_output_c, evaluation_output_s"
   ]
  },
  {
   "cell_type": "markdown",
   "metadata": {},
   "source": [
    "## Explain paralinguistic impact"
   ]
  },
  {
   "cell_type": "code",
   "execution_count": 14,
   "metadata": {},
   "outputs": [
    {
     "name": "stderr",
     "output_type": "stream",
     "text": [
      "Perturbation type: 100%|████████████████████████████████████████████████████████████████████████████████████████████████████████████████████████████████| 8/8 [01:15<00:00,  9.44s/it]\n"
     ]
    },
    {
     "data": {
      "text/html": [
       "<style type=\"text/css\">\n",
       "#T_0d6f8_row0_col0 {\n",
       "  background-color: #ebb9bd;\n",
       "  color: #000000;\n",
       "}\n",
       "#T_0d6f8_row0_col1 {\n",
       "  background-color: #edc6c9;\n",
       "  color: #000000;\n",
       "}\n",
       "#T_0d6f8_row0_col2 {\n",
       "  background-color: #e8a6ab;\n",
       "  color: #000000;\n",
       "}\n",
       "#T_0d6f8_row0_col3, #T_0d6f8_row0_col4, #T_0d6f8_row1_col2 {\n",
       "  background-color: #eab5b9;\n",
       "  color: #000000;\n",
       "}\n",
       "#T_0d6f8_row0_col5 {\n",
       "  background-color: #eab6ba;\n",
       "  color: #000000;\n",
       "}\n",
       "#T_0d6f8_row0_col6, #T_0d6f8_row1_col0 {\n",
       "  background-color: #ecc5c7;\n",
       "  color: #000000;\n",
       "}\n",
       "#T_0d6f8_row0_col7 {\n",
       "  background-color: #ecbfc2;\n",
       "  color: #000000;\n",
       "}\n",
       "#T_0d6f8_row1_col1 {\n",
       "  background-color: #eecfd1;\n",
       "  color: #000000;\n",
       "}\n",
       "#T_0d6f8_row1_col3, #T_0d6f8_row1_col4, #T_0d6f8_row2_col3, #T_0d6f8_row2_col4, #T_0d6f8_row2_col5 {\n",
       "  background-color: #edeff1;\n",
       "  color: #000000;\n",
       "}\n",
       "#T_0d6f8_row1_col5 {\n",
       "  background-color: #eceef1;\n",
       "  color: #000000;\n",
       "}\n",
       "#T_0d6f8_row1_col6 {\n",
       "  background-color: #f1f1f2;\n",
       "  color: #000000;\n",
       "}\n",
       "#T_0d6f8_row1_col7 {\n",
       "  background-color: #edc7ca;\n",
       "  color: #000000;\n",
       "}\n",
       "#T_0d6f8_row2_col0, #T_0d6f8_row2_col1, #T_0d6f8_row2_col2 {\n",
       "  background-color: #f2eeee;\n",
       "  color: #000000;\n",
       "}\n",
       "#T_0d6f8_row2_col6 {\n",
       "  background-color: #eff0f2;\n",
       "  color: #000000;\n",
       "}\n",
       "#T_0d6f8_row2_col7 {\n",
       "  background-color: #e17179;\n",
       "  color: #f1f1f1;\n",
       "}\n",
       "</style>\n",
       "<table id=\"T_0d6f8\">\n",
       "  <thead>\n",
       "    <tr>\n",
       "      <th class=\"blank level0\" >&nbsp;</th>\n",
       "      <th id=\"T_0d6f8_level0_col0\" class=\"col_heading level0 col0\" >pitch shifting</th>\n",
       "      <th id=\"T_0d6f8_level0_col1\" class=\"col_heading level0 col1\" >pitch shifting down</th>\n",
       "      <th id=\"T_0d6f8_level0_col2\" class=\"col_heading level0 col2\" >pitch shifting up</th>\n",
       "      <th id=\"T_0d6f8_level0_col3\" class=\"col_heading level0 col3\" >time stretching</th>\n",
       "      <th id=\"T_0d6f8_level0_col4\" class=\"col_heading level0 col4\" >time stretching down</th>\n",
       "      <th id=\"T_0d6f8_level0_col5\" class=\"col_heading level0 col5\" >time stretching up</th>\n",
       "      <th id=\"T_0d6f8_level0_col6\" class=\"col_heading level0 col6\" >reverberation</th>\n",
       "      <th id=\"T_0d6f8_level0_col7\" class=\"col_heading level0 col7\" >noise</th>\n",
       "    </tr>\n",
       "  </thead>\n",
       "  <tbody>\n",
       "    <tr>\n",
       "      <th id=\"T_0d6f8_level0_row0\" class=\"row_heading level0 row0\" >action=increase</th>\n",
       "      <td id=\"T_0d6f8_row0_col0\" class=\"data row0 col0\" >0.31</td>\n",
       "      <td id=\"T_0d6f8_row0_col1\" class=\"data row0 col1\" >0.24</td>\n",
       "      <td id=\"T_0d6f8_row0_col2\" class=\"data row0 col2\" >0.41</td>\n",
       "      <td id=\"T_0d6f8_row0_col3\" class=\"data row0 col3\" >0.33</td>\n",
       "      <td id=\"T_0d6f8_row0_col4\" class=\"data row0 col4\" >0.33</td>\n",
       "      <td id=\"T_0d6f8_row0_col5\" class=\"data row0 col5\" >0.33</td>\n",
       "      <td id=\"T_0d6f8_row0_col6\" class=\"data row0 col6\" >0.24</td>\n",
       "      <td id=\"T_0d6f8_row0_col7\" class=\"data row0 col7\" >0.27</td>\n",
       "    </tr>\n",
       "    <tr>\n",
       "      <th id=\"T_0d6f8_level0_row1\" class=\"row_heading level0 row1\" >object=heat</th>\n",
       "      <td id=\"T_0d6f8_row1_col0\" class=\"data row1 col0\" >0.25</td>\n",
       "      <td id=\"T_0d6f8_row1_col1\" class=\"data row1 col1\" >0.19</td>\n",
       "      <td id=\"T_0d6f8_row1_col2\" class=\"data row1 col2\" >0.33</td>\n",
       "      <td id=\"T_0d6f8_row1_col3\" class=\"data row1 col3\" >-0.02</td>\n",
       "      <td id=\"T_0d6f8_row1_col4\" class=\"data row1 col4\" >-0.02</td>\n",
       "      <td id=\"T_0d6f8_row1_col5\" class=\"data row1 col5\" >-0.02</td>\n",
       "      <td id=\"T_0d6f8_row1_col6\" class=\"data row1 col6\" >-0.00</td>\n",
       "      <td id=\"T_0d6f8_row1_col7\" class=\"data row1 col7\" >0.23</td>\n",
       "    </tr>\n",
       "    <tr>\n",
       "      <th id=\"T_0d6f8_level0_row2\" class=\"row_heading level0 row2\" >location=washroom</th>\n",
       "      <td id=\"T_0d6f8_row2_col0\" class=\"data row2 col0\" >0.02</td>\n",
       "      <td id=\"T_0d6f8_row2_col1\" class=\"data row2 col1\" >0.02</td>\n",
       "      <td id=\"T_0d6f8_row2_col2\" class=\"data row2 col2\" >0.02</td>\n",
       "      <td id=\"T_0d6f8_row2_col3\" class=\"data row2 col3\" >-0.02</td>\n",
       "      <td id=\"T_0d6f8_row2_col4\" class=\"data row2 col4\" >-0.02</td>\n",
       "      <td id=\"T_0d6f8_row2_col5\" class=\"data row2 col5\" >-0.02</td>\n",
       "      <td id=\"T_0d6f8_row2_col6\" class=\"data row2 col6\" >-0.01</td>\n",
       "      <td id=\"T_0d6f8_row2_col7\" class=\"data row2 col7\" >0.70</td>\n",
       "    </tr>\n",
       "  </tbody>\n",
       "</table>\n"
      ],
      "text/plain": [
       "<pandas.io.formats.style.Styler at 0x7f7f6a12d510>"
      ]
     },
     "metadata": {},
     "output_type": "display_data"
    }
   ],
   "source": [
    "explain_table = benchmark.explain(\n",
    "    audio_path_or_array=sample[\"audio\"][\"array\"],\n",
    "    current_sr=sample[\"audio\"][\"sampling_rate\"],\n",
    "    methodology='perturb_paraling',\n",
    ")\n",
    "display(benchmark.show_table(explain_table, decimals=2))"
   ]
  },
  {
   "cell_type": "markdown",
   "metadata": {},
   "source": [
    "## Show variation"
   ]
  },
  {
   "cell_type": "code",
   "execution_count": 15,
   "metadata": {},
   "outputs": [],
   "source": [
    "perturbation_types = ['time stretching', 'pitch shifting', 'reverberation', 'noise']\n",
    "variations_table = benchmark.explain_variations(\n",
    "    audio_path_or_array=sample[\"audio\"][\"array\"],\n",
    "    current_sr=sample[\"audio\"][\"sampling_rate\"],\n",
    "    perturbation_types=perturbation_types\n",
    ")"
   ]
  },
  {
   "cell_type": "code",
   "execution_count": 16,
   "metadata": {},
   "outputs": [
    {
     "data": {
      "image/png": "[encoded data removed]",
      "text/plain": [
       "<Figure size 460x420 with 4 Axes>"
      ]
     },
     "metadata": {},
     "output_type": "display_data"
    }
   ],
   "source": [
    "variations_table_plot = {k:variations_table[k] for k in variations_table if k in ['time stretching', 'pitch shifting', 'noise']}\n",
    "fig = benchmark.plot_variations(variations_table_plot, show_diff = True, figsize=(4.6, 4.2));\n",
    "# fig.savefig(f'example_{dataset_name}_context.pdf', bbox_inches='tight')"
   ]
  }
 ],
 "metadata": {
  "accelerator": "GPU",
  "colab": {
   "name": "SUPERB - IC Task (FSC).ipynb",
   "provenance": []
  },
  "kernelspec": {
   "display_name": "Python 3 (ipykernel)",
   "language": "python",
   "name": "python3"
  },
  "language_info": {
   "codemirror_mode": {
    "name": "ipython",
    "version": 3
   },
   "file_extension": ".py",
   "mimetype": "text/x-python",
   "name": "python",
   "nbconvert_exporter": "python",
   "pygments_lexer": "ipython3",
   "version": "3.10.14"
  }
 },
 "nbformat": 4,
 "nbformat_minor": 4
}
